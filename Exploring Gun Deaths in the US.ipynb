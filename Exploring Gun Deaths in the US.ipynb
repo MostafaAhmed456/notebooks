{
 "cells": [
  {
   "cell_type": "markdown",
   "metadata": {},
   "source": [
    "#  Exploring Gun Deaths in the US"
   ]
  },
  {
   "cell_type": "markdown",
   "metadata": {},
   "source": [
    " i wrote this notebook to explore the Gun Deaths in US \n",
    " The dataset contains information on gun deaths in the US from 2012 to 2014. Each row in the dataset represents a single fatality. The columns contain demographic and other information about the victim .\n",
    "\n",
    "#### The columns of the datasets are self-explanatory, however few need to clarified:\n",
    "* police: 0 or 1 (0 means no police were involved)\n",
    "* intent: value could be Suicide, Accidental, NA, Homicide, or Undetermined\n",
    "* race: value could be Asian/Pacific Islander, Native American/Native Alaskan, Black, Hispanic, or White\n",
    "* education: 1 -- Less than High School 2 -- Graduated from High School or equivalent 3 -- Some College 4 -- At least graduated from College 5 -- Not available\n",
    "* We'll be using another dataset called \"census.csv\" which has one row consists of population counts."
   ]
  },
  {
   "cell_type": "markdown",
   "metadata": {},
   "source": [
    "#### first step \n",
    "1-import need packages and load data"
   ]
  },
  {
   "cell_type": "code",
   "execution_count": 1,
   "metadata": {
    "collapsed": true
   },
   "outputs": [],
   "source": [
    "import pandas as pd\n",
    "import matplotlib.pyplot as plt\n",
    "%matplotlib inline\n",
    "## load Gun data set\n",
    "gun = pd.read_csv('G:\\\\coursera\\\\books\\\\practical_notebooks\\\\full_data.csv')\n"
   ]
  },
  {
   "cell_type": "markdown",
   "metadata": {},
   "source": [
    "#### second step \n",
    "2- explore the data set"
   ]
  },
  {
   "cell_type": "code",
   "execution_count": 3,
   "metadata": {
    "collapsed": false
   },
   "outputs": [
    {
     "data": {
      "text/html": [
       "<div>\n",
       "<table border=\"1\" class=\"dataframe\">\n",
       "  <thead>\n",
       "    <tr style=\"text-align: right;\">\n",
       "      <th></th>\n",
       "      <th>ID</th>\n",
       "      <th>year</th>\n",
       "      <th>month</th>\n",
       "      <th>intent</th>\n",
       "      <th>police</th>\n",
       "      <th>sex</th>\n",
       "      <th>age</th>\n",
       "      <th>race</th>\n",
       "      <th>hispanic</th>\n",
       "      <th>place</th>\n",
       "      <th>education</th>\n",
       "    </tr>\n",
       "  </thead>\n",
       "  <tbody>\n",
       "    <tr>\n",
       "      <th>0</th>\n",
       "      <td>1</td>\n",
       "      <td>2012</td>\n",
       "      <td>1</td>\n",
       "      <td>Suicide</td>\n",
       "      <td>0</td>\n",
       "      <td>M</td>\n",
       "      <td>34.0</td>\n",
       "      <td>Asian/Pacific Islander</td>\n",
       "      <td>100</td>\n",
       "      <td>Home</td>\n",
       "      <td>4.0</td>\n",
       "    </tr>\n",
       "    <tr>\n",
       "      <th>1</th>\n",
       "      <td>2</td>\n",
       "      <td>2012</td>\n",
       "      <td>1</td>\n",
       "      <td>Suicide</td>\n",
       "      <td>0</td>\n",
       "      <td>F</td>\n",
       "      <td>21.0</td>\n",
       "      <td>White</td>\n",
       "      <td>100</td>\n",
       "      <td>Street</td>\n",
       "      <td>3.0</td>\n",
       "    </tr>\n",
       "    <tr>\n",
       "      <th>2</th>\n",
       "      <td>3</td>\n",
       "      <td>2012</td>\n",
       "      <td>1</td>\n",
       "      <td>Suicide</td>\n",
       "      <td>0</td>\n",
       "      <td>M</td>\n",
       "      <td>60.0</td>\n",
       "      <td>White</td>\n",
       "      <td>100</td>\n",
       "      <td>Other specified</td>\n",
       "      <td>4.0</td>\n",
       "    </tr>\n",
       "    <tr>\n",
       "      <th>3</th>\n",
       "      <td>4</td>\n",
       "      <td>2012</td>\n",
       "      <td>2</td>\n",
       "      <td>Suicide</td>\n",
       "      <td>0</td>\n",
       "      <td>M</td>\n",
       "      <td>64.0</td>\n",
       "      <td>White</td>\n",
       "      <td>100</td>\n",
       "      <td>Home</td>\n",
       "      <td>4.0</td>\n",
       "    </tr>\n",
       "  </tbody>\n",
       "</table>\n",
       "</div>"
      ],
      "text/plain": [
       "   ID  year  month   intent  police sex   age                    race  \\\n",
       "0   1  2012      1  Suicide       0   M  34.0  Asian/Pacific Islander   \n",
       "1   2  2012      1  Suicide       0   F  21.0                   White   \n",
       "2   3  2012      1  Suicide       0   M  60.0                   White   \n",
       "3   4  2012      2  Suicide       0   M  64.0                   White   \n",
       "\n",
       "   hispanic            place  education  \n",
       "0       100             Home        4.0  \n",
       "1       100           Street        3.0  \n",
       "2       100  Other specified        4.0  \n",
       "3       100             Home        4.0  "
      ]
     },
     "execution_count": 3,
     "metadata": {},
     "output_type": "execute_result"
    }
   ],
   "source": [
    "gun.head(4)"
   ]
  },
  {
   "cell_type": "code",
   "execution_count": 4,
   "metadata": {
    "collapsed": false
   },
   "outputs": [
    {
     "name": "stdout",
     "output_type": "stream",
     "text": [
      "the shape of the data set  (100798, 11)\n",
      "column names Index([u'ID', u'year', u'month', u'intent', u'police', u'sex', u'age', u'race',\n",
      "       u'hispanic', u'place', u'education'],\n",
      "      dtype='object')\n"
     ]
    }
   ],
   "source": [
    "### explore the whole the datset first\n",
    "\n",
    "print \"the shape of the data set \" ,gun.shape\n",
    "print \"column names\" , gun.columns"
   ]
  },
  {
   "cell_type": "code",
   "execution_count": 5,
   "metadata": {
    "collapsed": false
   },
   "outputs": [
    {
     "data": {
      "text/plain": [
       "2013    33636\n",
       "2014    33599\n",
       "2012    33563\n",
       "Name: year, dtype: int64"
      ]
     },
     "execution_count": 5,
     "metadata": {},
     "output_type": "execute_result"
    }
   ],
   "source": [
    "## explore each variable values\n",
    "\n",
    "\n",
    "gun['year'].value_counts()"
   ]
  },
  {
   "cell_type": "code",
   "execution_count": 6,
   "metadata": {
    "collapsed": false
   },
   "outputs": [
    {
     "data": {
      "text/plain": [
       "Suicide         63175\n",
       "Homicide        35176\n",
       "Accidental       1639\n",
       "Undetermined      807\n",
       "Name: intent, dtype: int64"
      ]
     },
     "execution_count": 6,
     "metadata": {},
     "output_type": "execute_result"
    }
   ],
   "source": [
    "gun['intent'].value_counts()"
   ]
  },
  {
   "cell_type": "code",
   "execution_count": 7,
   "metadata": {
    "collapsed": false
   },
   "outputs": [
    {
     "name": "stdout",
     "output_type": "stream",
     "text": [
      " exploration of  year values\n",
      "2013    33636\n",
      "2014    33599\n",
      "2012    33563\n",
      "Name: year, dtype: int64\n",
      "========================\n",
      " exploration of  month values\n",
      "7     8989\n",
      "8     8783\n",
      "6     8677\n",
      "5     8669\n",
      "9     8508\n",
      "4     8455\n",
      "12    8413\n",
      "10    8406\n",
      "3     8289\n",
      "1     8273\n",
      "11    8243\n",
      "2     7093\n",
      "Name: month, dtype: int64\n",
      "========================\n",
      " exploration of  intent values\n",
      "Suicide         63175\n",
      "Homicide        35176\n",
      "Accidental       1639\n",
      "Undetermined      807\n",
      "Name: intent, dtype: int64\n",
      "========================\n",
      " exploration of  police values\n",
      "0    99396\n",
      "1     1402\n",
      "Name: police, dtype: int64\n",
      "========================\n",
      " exploration of  sex values\n",
      "M    86349\n",
      "F    14449\n",
      "Name: sex, dtype: int64\n",
      "========================\n",
      " exploration of  race values\n",
      "White                             66237\n",
      "Black                             23296\n",
      "Hispanic                           9022\n",
      "Asian/Pacific Islander             1326\n",
      "Native American/Native Alaskan      917\n",
      "Name: race, dtype: int64\n",
      "========================\n",
      " exploration of  hispanic values\n",
      "100    91467\n",
      "210     5463\n",
      "260      842\n",
      "270      420\n",
      "282      399\n",
      "281      352\n",
      "998      309\n",
      "211      280\n",
      "220      214\n",
      "226      174\n",
      "275      170\n",
      "261      128\n",
      "222      116\n",
      "223      109\n",
      "280       73\n",
      "234       47\n",
      "250       35\n",
      "224       28\n",
      "235       22\n",
      "200       19\n",
      "237       19\n",
      "271       18\n",
      "227       16\n",
      "225       13\n",
      "239       13\n",
      "231       11\n",
      "291        9\n",
      "233        7\n",
      "232        6\n",
      "242        4\n",
      "299        3\n",
      "221        3\n",
      "209        2\n",
      "286        2\n",
      "217        1\n",
      "218        1\n",
      "212        1\n",
      "238        1\n",
      "252        1\n",
      "Name: hispanic, dtype: int64\n",
      "========================\n",
      " exploration of  place values\n",
      "Home                       60486\n",
      "Other specified            13751\n",
      "Street                     11151\n",
      "Other unspecified           8867\n",
      "Trade/service area          3439\n",
      "School/instiution            671\n",
      "Farm                         470\n",
      "Industrial/construction      248\n",
      "Residential institution      203\n",
      "Sports                       128\n",
      "Name: place, dtype: int64\n",
      "========================\n",
      " exploration of  education values\n",
      "2.0    42927\n",
      "1.0    21823\n",
      "3.0    21680\n",
      "4.0    12946\n",
      "5.0     1369\n",
      "Name: education, dtype: int64\n",
      "========================\n"
     ]
    }
   ],
   "source": [
    "for i in gun.columns:\n",
    "    if i not in ('ID', 'age'):\n",
    "        print \" exploration of \",i,\"values\"\n",
    "        print gun[i].value_counts()\n",
    "        print \"========================\""
   ]
  },
  {
   "cell_type": "markdown",
   "metadata": {
    "collapsed": false
   },
   "source": [
    "## exploring Gun Deaths by year and months in each year"
   ]
  },
  {
   "cell_type": "code",
   "execution_count": 8,
   "metadata": {
    "collapsed": false
   },
   "outputs": [],
   "source": [
    "y=[] ## years list\n",
    "m=[] ## months list\n",
    "c=[] ## count list\n",
    "## loop through years and months in each year and count rows for this month and then append to lists above  \n",
    "for year in [2012,2013,2014] :\n",
    "    for i in range(1,13): \n",
    "        x =gun[(gun[\"year\"]==year) & (gun[\"month\"]==i)]['month']\n",
    "        y.append(year)\n",
    "        m.append(i)\n",
    "        c.append(x.count())\n",
    "        #print x \n",
    "## create data frame ans append the above list to it         \n",
    "counts_by_months_year = pd.DataFrame(columns=['year','month','count'])\n",
    "counts_by_months_year['year']=y\n",
    "counts_by_months_year['month']=m\n",
    "counts_by_months_year['count']=c\n",
    "## concate years and months in new column i will use it to plot counts\n",
    "month_year=[]\n",
    "for i,n in  zip(counts_by_months_year['year'],counts_by_months_year['month']):\n",
    "           string= str(i)+'-'+str(n)\n",
    "           month_year.append(string)\n",
    "counts_by_months_year['month_year']=month_year            "
   ]
  },
  {
   "cell_type": "code",
   "execution_count": 9,
   "metadata": {
    "collapsed": false
   },
   "outputs": [
    {
     "data": {
      "text/html": [
       "<div>\n",
       "<table border=\"1\" class=\"dataframe\">\n",
       "  <thead>\n",
       "    <tr style=\"text-align: right;\">\n",
       "      <th></th>\n",
       "      <th>year</th>\n",
       "      <th>month</th>\n",
       "      <th>count</th>\n",
       "      <th>month_year</th>\n",
       "    </tr>\n",
       "  </thead>\n",
       "  <tbody>\n",
       "    <tr>\n",
       "      <th>0</th>\n",
       "      <td>2012</td>\n",
       "      <td>1</td>\n",
       "      <td>2758</td>\n",
       "      <td>2012-1</td>\n",
       "    </tr>\n",
       "    <tr>\n",
       "      <th>1</th>\n",
       "      <td>2012</td>\n",
       "      <td>2</td>\n",
       "      <td>2357</td>\n",
       "      <td>2012-2</td>\n",
       "    </tr>\n",
       "    <tr>\n",
       "      <th>2</th>\n",
       "      <td>2012</td>\n",
       "      <td>3</td>\n",
       "      <td>2743</td>\n",
       "      <td>2012-3</td>\n",
       "    </tr>\n",
       "    <tr>\n",
       "      <th>3</th>\n",
       "      <td>2012</td>\n",
       "      <td>4</td>\n",
       "      <td>2795</td>\n",
       "      <td>2012-4</td>\n",
       "    </tr>\n",
       "    <tr>\n",
       "      <th>4</th>\n",
       "      <td>2012</td>\n",
       "      <td>5</td>\n",
       "      <td>2999</td>\n",
       "      <td>2012-5</td>\n",
       "    </tr>\n",
       "    <tr>\n",
       "      <th>5</th>\n",
       "      <td>2012</td>\n",
       "      <td>6</td>\n",
       "      <td>2826</td>\n",
       "      <td>2012-6</td>\n",
       "    </tr>\n",
       "    <tr>\n",
       "      <th>6</th>\n",
       "      <td>2012</td>\n",
       "      <td>7</td>\n",
       "      <td>3026</td>\n",
       "      <td>2012-7</td>\n",
       "    </tr>\n",
       "    <tr>\n",
       "      <th>7</th>\n",
       "      <td>2012</td>\n",
       "      <td>8</td>\n",
       "      <td>2954</td>\n",
       "      <td>2012-8</td>\n",
       "    </tr>\n",
       "    <tr>\n",
       "      <th>8</th>\n",
       "      <td>2012</td>\n",
       "      <td>9</td>\n",
       "      <td>2852</td>\n",
       "      <td>2012-9</td>\n",
       "    </tr>\n",
       "    <tr>\n",
       "      <th>9</th>\n",
       "      <td>2012</td>\n",
       "      <td>10</td>\n",
       "      <td>2733</td>\n",
       "      <td>2012-10</td>\n",
       "    </tr>\n",
       "    <tr>\n",
       "      <th>10</th>\n",
       "      <td>2012</td>\n",
       "      <td>11</td>\n",
       "      <td>2729</td>\n",
       "      <td>2012-11</td>\n",
       "    </tr>\n",
       "    <tr>\n",
       "      <th>11</th>\n",
       "      <td>2012</td>\n",
       "      <td>12</td>\n",
       "      <td>2791</td>\n",
       "      <td>2012-12</td>\n",
       "    </tr>\n",
       "    <tr>\n",
       "      <th>12</th>\n",
       "      <td>2013</td>\n",
       "      <td>1</td>\n",
       "      <td>2864</td>\n",
       "      <td>2013-1</td>\n",
       "    </tr>\n",
       "    <tr>\n",
       "      <th>13</th>\n",
       "      <td>2013</td>\n",
       "      <td>2</td>\n",
       "      <td>2375</td>\n",
       "      <td>2013-2</td>\n",
       "    </tr>\n",
       "    <tr>\n",
       "      <th>14</th>\n",
       "      <td>2013</td>\n",
       "      <td>3</td>\n",
       "      <td>2862</td>\n",
       "      <td>2013-3</td>\n",
       "    </tr>\n",
       "    <tr>\n",
       "      <th>15</th>\n",
       "      <td>2013</td>\n",
       "      <td>4</td>\n",
       "      <td>2798</td>\n",
       "      <td>2013-4</td>\n",
       "    </tr>\n",
       "    <tr>\n",
       "      <th>16</th>\n",
       "      <td>2013</td>\n",
       "      <td>5</td>\n",
       "      <td>2806</td>\n",
       "      <td>2013-5</td>\n",
       "    </tr>\n",
       "    <tr>\n",
       "      <th>17</th>\n",
       "      <td>2013</td>\n",
       "      <td>6</td>\n",
       "      <td>2920</td>\n",
       "      <td>2013-6</td>\n",
       "    </tr>\n",
       "    <tr>\n",
       "      <th>18</th>\n",
       "      <td>2013</td>\n",
       "      <td>7</td>\n",
       "      <td>3079</td>\n",
       "      <td>2013-7</td>\n",
       "    </tr>\n",
       "    <tr>\n",
       "      <th>19</th>\n",
       "      <td>2013</td>\n",
       "      <td>8</td>\n",
       "      <td>2859</td>\n",
       "      <td>2013-8</td>\n",
       "    </tr>\n",
       "    <tr>\n",
       "      <th>20</th>\n",
       "      <td>2013</td>\n",
       "      <td>9</td>\n",
       "      <td>2742</td>\n",
       "      <td>2013-9</td>\n",
       "    </tr>\n",
       "    <tr>\n",
       "      <th>21</th>\n",
       "      <td>2013</td>\n",
       "      <td>10</td>\n",
       "      <td>2808</td>\n",
       "      <td>2013-10</td>\n",
       "    </tr>\n",
       "    <tr>\n",
       "      <th>22</th>\n",
       "      <td>2013</td>\n",
       "      <td>11</td>\n",
       "      <td>2758</td>\n",
       "      <td>2013-11</td>\n",
       "    </tr>\n",
       "    <tr>\n",
       "      <th>23</th>\n",
       "      <td>2013</td>\n",
       "      <td>12</td>\n",
       "      <td>2765</td>\n",
       "      <td>2013-12</td>\n",
       "    </tr>\n",
       "    <tr>\n",
       "      <th>24</th>\n",
       "      <td>2014</td>\n",
       "      <td>1</td>\n",
       "      <td>2651</td>\n",
       "      <td>2014-1</td>\n",
       "    </tr>\n",
       "    <tr>\n",
       "      <th>25</th>\n",
       "      <td>2014</td>\n",
       "      <td>2</td>\n",
       "      <td>2361</td>\n",
       "      <td>2014-2</td>\n",
       "    </tr>\n",
       "    <tr>\n",
       "      <th>26</th>\n",
       "      <td>2014</td>\n",
       "      <td>3</td>\n",
       "      <td>2684</td>\n",
       "      <td>2014-3</td>\n",
       "    </tr>\n",
       "    <tr>\n",
       "      <th>27</th>\n",
       "      <td>2014</td>\n",
       "      <td>4</td>\n",
       "      <td>2862</td>\n",
       "      <td>2014-4</td>\n",
       "    </tr>\n",
       "    <tr>\n",
       "      <th>28</th>\n",
       "      <td>2014</td>\n",
       "      <td>5</td>\n",
       "      <td>2864</td>\n",
       "      <td>2014-5</td>\n",
       "    </tr>\n",
       "    <tr>\n",
       "      <th>29</th>\n",
       "      <td>2014</td>\n",
       "      <td>6</td>\n",
       "      <td>2931</td>\n",
       "      <td>2014-6</td>\n",
       "    </tr>\n",
       "    <tr>\n",
       "      <th>30</th>\n",
       "      <td>2014</td>\n",
       "      <td>7</td>\n",
       "      <td>2884</td>\n",
       "      <td>2014-7</td>\n",
       "    </tr>\n",
       "    <tr>\n",
       "      <th>31</th>\n",
       "      <td>2014</td>\n",
       "      <td>8</td>\n",
       "      <td>2970</td>\n",
       "      <td>2014-8</td>\n",
       "    </tr>\n",
       "    <tr>\n",
       "      <th>32</th>\n",
       "      <td>2014</td>\n",
       "      <td>9</td>\n",
       "      <td>2914</td>\n",
       "      <td>2014-9</td>\n",
       "    </tr>\n",
       "    <tr>\n",
       "      <th>33</th>\n",
       "      <td>2014</td>\n",
       "      <td>10</td>\n",
       "      <td>2865</td>\n",
       "      <td>2014-10</td>\n",
       "    </tr>\n",
       "    <tr>\n",
       "      <th>34</th>\n",
       "      <td>2014</td>\n",
       "      <td>11</td>\n",
       "      <td>2756</td>\n",
       "      <td>2014-11</td>\n",
       "    </tr>\n",
       "    <tr>\n",
       "      <th>35</th>\n",
       "      <td>2014</td>\n",
       "      <td>12</td>\n",
       "      <td>2857</td>\n",
       "      <td>2014-12</td>\n",
       "    </tr>\n",
       "  </tbody>\n",
       "</table>\n",
       "</div>"
      ],
      "text/plain": [
       "    year  month  count month_year\n",
       "0   2012      1   2758     2012-1\n",
       "1   2012      2   2357     2012-2\n",
       "2   2012      3   2743     2012-3\n",
       "3   2012      4   2795     2012-4\n",
       "4   2012      5   2999     2012-5\n",
       "5   2012      6   2826     2012-6\n",
       "6   2012      7   3026     2012-7\n",
       "7   2012      8   2954     2012-8\n",
       "8   2012      9   2852     2012-9\n",
       "9   2012     10   2733    2012-10\n",
       "10  2012     11   2729    2012-11\n",
       "11  2012     12   2791    2012-12\n",
       "12  2013      1   2864     2013-1\n",
       "13  2013      2   2375     2013-2\n",
       "14  2013      3   2862     2013-3\n",
       "15  2013      4   2798     2013-4\n",
       "16  2013      5   2806     2013-5\n",
       "17  2013      6   2920     2013-6\n",
       "18  2013      7   3079     2013-7\n",
       "19  2013      8   2859     2013-8\n",
       "20  2013      9   2742     2013-9\n",
       "21  2013     10   2808    2013-10\n",
       "22  2013     11   2758    2013-11\n",
       "23  2013     12   2765    2013-12\n",
       "24  2014      1   2651     2014-1\n",
       "25  2014      2   2361     2014-2\n",
       "26  2014      3   2684     2014-3\n",
       "27  2014      4   2862     2014-4\n",
       "28  2014      5   2864     2014-5\n",
       "29  2014      6   2931     2014-6\n",
       "30  2014      7   2884     2014-7\n",
       "31  2014      8   2970     2014-8\n",
       "32  2014      9   2914     2014-9\n",
       "33  2014     10   2865    2014-10\n",
       "34  2014     11   2756    2014-11\n",
       "35  2014     12   2857    2014-12"
      ]
     },
     "execution_count": 9,
     "metadata": {},
     "output_type": "execute_result"
    }
   ],
   "source": [
    "counts_by_months_year"
   ]
  },
  {
   "cell_type": "code",
   "execution_count": 10,
   "metadata": {
    "collapsed": false
   },
   "outputs": [
    {
     "data": {
      "text/plain": [
       "<matplotlib.axes._subplots.AxesSubplot at 0x926f198>"
      ]
     },
     "execution_count": 10,
     "metadata": {},
     "output_type": "execute_result"
    },
    {
     "data": {
      "image/png": "[encoded data removed]",
      "text/plain": [
       "<matplotlib.figure.Figure at 0x926fcf8>"
      ]
     },
     "metadata": {},
     "output_type": "display_data"
    }
   ],
   "source": [
    "counts_by_months_year.plot(x=\"month_year\",\n",
    "             y=\"count\"\n",
    "             )"
   ]
  },
  {
   "cell_type": "markdown",
   "metadata": {
    "collapsed": false
   },
   "source": [
    "### exploring Gun Deaths by Race and sex"
   ]
  },
  {
   "cell_type": "code",
   "execution_count": 11,
   "metadata": {
    "collapsed": false
   },
   "outputs": [
    {
     "data": {
      "text/html": [
       "<div>\n",
       "<table border=\"1\" class=\"dataframe\">\n",
       "  <thead>\n",
       "    <tr style=\"text-align: right;\">\n",
       "      <th></th>\n",
       "      <th>ID</th>\n",
       "      <th>year</th>\n",
       "      <th>month</th>\n",
       "      <th>intent</th>\n",
       "      <th>police</th>\n",
       "      <th>sex</th>\n",
       "      <th>age</th>\n",
       "      <th>race</th>\n",
       "      <th>hispanic</th>\n",
       "      <th>place</th>\n",
       "      <th>education</th>\n",
       "    </tr>\n",
       "  </thead>\n",
       "  <tbody>\n",
       "    <tr>\n",
       "      <th>0</th>\n",
       "      <td>1</td>\n",
       "      <td>2012</td>\n",
       "      <td>1</td>\n",
       "      <td>Suicide</td>\n",
       "      <td>0</td>\n",
       "      <td>M</td>\n",
       "      <td>34.0</td>\n",
       "      <td>Asian/Pacific Islander</td>\n",
       "      <td>100</td>\n",
       "      <td>Home</td>\n",
       "      <td>4.0</td>\n",
       "    </tr>\n",
       "    <tr>\n",
       "      <th>1</th>\n",
       "      <td>2</td>\n",
       "      <td>2012</td>\n",
       "      <td>1</td>\n",
       "      <td>Suicide</td>\n",
       "      <td>0</td>\n",
       "      <td>F</td>\n",
       "      <td>21.0</td>\n",
       "      <td>White</td>\n",
       "      <td>100</td>\n",
       "      <td>Street</td>\n",
       "      <td>3.0</td>\n",
       "    </tr>\n",
       "  </tbody>\n",
       "</table>\n",
       "</div>"
      ],
      "text/plain": [
       "   ID  year  month   intent  police sex   age                    race  \\\n",
       "0   1  2012      1  Suicide       0   M  34.0  Asian/Pacific Islander   \n",
       "1   2  2012      1  Suicide       0   F  21.0                   White   \n",
       "\n",
       "   hispanic   place  education  \n",
       "0       100    Home        4.0  \n",
       "1       100  Street        3.0  "
      ]
     },
     "execution_count": 11,
     "metadata": {},
     "output_type": "execute_result"
    }
   ],
   "source": [
    "gun.head(2)"
   ]
  },
  {
   "cell_type": "code",
   "execution_count": 12,
   "metadata": {
    "collapsed": false
   },
   "outputs": [],
   "source": [
    "## i will divide the data frame into two group F and M \n",
    "gun_sex_M = gun[gun['sex']=='M']\n",
    "gun_sex_F = gun[gun['sex']=='F']"
   ]
  },
  {
   "cell_type": "code",
   "execution_count": 13,
   "metadata": {
    "collapsed": false
   },
   "outputs": [
    {
     "name": "stdout",
     "output_type": "stream",
     "text": [
      "number of male deaths   =  86349\n",
      "number of female deaths =  14449\n"
     ]
    }
   ],
   "source": [
    "print \"number of male deaths   = \" ,gun_sex_M['sex'].count()\n",
    "print \"number of female deaths = \",gun_sex_F['sex'].count()"
   ]
  },
  {
   "cell_type": "code",
   "execution_count": 14,
   "metadata": {
    "collapsed": false
   },
   "outputs": [
    {
     "name": "stdout",
     "output_type": "stream",
     "text": [
      "number of female died in each year\n",
      "2014    4882\n",
      "2013    4842\n",
      "2012    4725\n",
      "Name: year, dtype: int64\n",
      "number of male died in each year\n"
     ]
    },
    {
     "data": {
      "text/plain": [
       "2012    28838\n",
       "2013    28794\n",
       "2014    28717\n",
       "Name: year, dtype: int64"
      ]
     },
     "execution_count": 14,
     "metadata": {},
     "output_type": "execute_result"
    }
   ],
   "source": [
    "### exploring in each year \n",
    "print \"number of female died in each year\"\n",
    "print gun_sex_F['year'].value_counts()\n",
    "\n",
    "print \"number of male died in each year\"\n",
    "gun_sex_M['year'].value_counts()"
   ]
  },
  {
   "cell_type": "code",
   "execution_count": 15,
   "metadata": {
    "collapsed": false
   },
   "outputs": [],
   "source": [
    "## explore by race \n",
    "## we can use groupby function but let's try it by loo\n",
    "race_counts ={}\n",
    "for line in gun['race']:\n",
    "        if line not in race_counts:\n",
    "             race_counts[line] = 1\n",
    "        else:\n",
    "            race_counts[line] += 1  "
   ]
  },
  {
   "cell_type": "code",
   "execution_count": 16,
   "metadata": {
    "collapsed": false
   },
   "outputs": [
    {
     "data": {
      "text/plain": [
       "{'Asian/Pacific Islander': 1326,\n",
       " 'Black': 23296,\n",
       " 'Hispanic': 9022,\n",
       " 'Native American/Native Alaskan': 917,\n",
       " 'White': 66237}"
      ]
     },
     "execution_count": 16,
     "metadata": {},
     "output_type": "execute_result"
    }
   ],
   "source": [
    "race_counts "
   ]
  },
  {
   "cell_type": "code",
   "execution_count": 17,
   "metadata": {
    "collapsed": false
   },
   "outputs": [
    {
     "data": {
      "image/png": "[encoded data removed]",
      "text/plain": [
       "<matplotlib.figure.Figure at 0x94137b8>"
      ]
     },
     "metadata": {},
     "output_type": "display_data"
    }
   ],
   "source": [
    "fig = plt.figure(figsize=(4,10))\n",
    "\n",
    " \n",
    "ax2 = fig.add_subplot(212)\n",
    "ax2.bar(left=list(range(1,len(race_counts)+1)),height=race_counts.values(),width=0.2)\n",
    "ax2.set_xticks([i+0.2/2 for i in range(1,len(race_counts)+1)])\n",
    "ax2.set_xticklabels(race_counts.keys(),rotation=80)\n",
    "ax2.set_title(\"Race Counts\")\n",
    "\n",
    "plt.show()"
   ]
  },
  {
   "cell_type": "markdown",
   "metadata": {},
   "source": [
    "### Reading census dataset"
   ]
  },
  {
   "cell_type": "code",
   "execution_count": 18,
   "metadata": {
    "collapsed": true
   },
   "outputs": [],
   "source": [
    "census = pd.read_csv(\"G:\\\\coursera\\\\books\\\\practical_notebooks\\\\census.csv\")"
   ]
  },
  {
   "cell_type": "code",
   "execution_count": null,
   "metadata": {
    "collapsed": false
   },
   "outputs": [],
   "source": [
    " "
   ]
  },
  {
   "cell_type": "markdown",
   "metadata": {},
   "source": [
    "### now i want to  Compute Rates Of Gun Deaths Per Race\n",
    "Rate of gun deaths per 100,000 people in each race"
   ]
  },
  {
   "cell_type": "code",
   "execution_count": 19,
   "metadata": {
    "collapsed": false
   },
   "outputs": [],
   "source": [
    "whole_race_counts = {\n",
    "    \"Asian/Pacific Islander\": 15159516 + 674625,\n",
    "    \"Native American/Native Alaskan\": 3739506,\n",
    "    \"Black\": 40250635,\n",
    "    \"Hispanic\": 44618105,\n",
    "    \"White\": 197318956\n",
    "}\n",
    "death_race_counts ={'Asian/Pacific Islander': 1326,\n",
    " 'Black': 23296,\n",
    " 'Hispanic': 9022,\n",
    " 'Native American/Native Alaskan': 917,\n",
    " 'White': 66237}\n",
    "race_rate = {}\n",
    "## because the values in mapping are very large when divide race counts over it it will result 0 so i will import \n",
    "from __future__ import division\n",
    "for k,v in death_race_counts.items():\n",
    "    race_rate[k] = (v / whole_race_counts[k]) * 100000"
   ]
  },
  {
   "cell_type": "code",
   "execution_count": 20,
   "metadata": {
    "collapsed": false
   },
   "outputs": [
    {
     "data": {
      "text/plain": [
       "{'Asian/Pacific Islander': 8.374309664161762,\n",
       " 'Black': 57.8773477735196,\n",
       " 'Hispanic': 20.220491210910907,\n",
       " 'Native American/Native Alaskan': 24.521955573811088,\n",
       " 'White': 33.56849303419181}"
      ]
     },
     "execution_count": 20,
     "metadata": {},
     "output_type": "execute_result"
    }
   ],
   "source": [
    "race_rate"
   ]
  },
  {
   "cell_type": "code",
   "execution_count": 21,
   "metadata": {
    "collapsed": false
   },
   "outputs": [
    {
     "data": {
      "image/png": "[encoded data removed]",
      "text/plain": [
       "<matplotlib.figure.Figure at 0x9409d68>"
      ]
     },
     "metadata": {},
     "output_type": "display_data"
    }
   ],
   "source": [
    "## plot the result of rates \n",
    "figure = plt.figure(figsize=(5,4))\n",
    "\n",
    "ax = figure.add_subplot(111)\n",
    "  \n",
    "ax.bar(left=list(range(1,len(race_rate)+1)),height=race_rate.values(),width=0.2,color='c')\n",
    "ax.set_ylim(0,100) # 100%\n",
    "ax.set_xticks([i+0.2/2 for i in range(1,len(race_rate)+1)])\n",
    "ax.set_xticklabels(race_rate.keys(),rotation=90)\n",
    "ax.set_title(\"Rates Of Gun Deaths Per Race\")\n",
    "\n",
    "plt.show()"
   ]
  },
  {
   "cell_type": "markdown",
   "metadata": {
    "collapsed": false
   },
   "source": [
    "### rates of Gun deaths per race filtered by Homicide per 10,0000"
   ]
  },
  {
   "cell_type": "code",
   "execution_count": 22,
   "metadata": {
    "collapsed": false
   },
   "outputs": [
    {
     "data": {
      "text/html": [
       "<div>\n",
       "<table border=\"1\" class=\"dataframe\">\n",
       "  <thead>\n",
       "    <tr style=\"text-align: right;\">\n",
       "      <th></th>\n",
       "      <th>ID</th>\n",
       "      <th>year</th>\n",
       "      <th>month</th>\n",
       "      <th>intent</th>\n",
       "      <th>police</th>\n",
       "      <th>sex</th>\n",
       "      <th>age</th>\n",
       "      <th>race</th>\n",
       "      <th>hispanic</th>\n",
       "      <th>place</th>\n",
       "      <th>education</th>\n",
       "    </tr>\n",
       "  </thead>\n",
       "  <tbody>\n",
       "    <tr>\n",
       "      <th>0</th>\n",
       "      <td>1</td>\n",
       "      <td>2012</td>\n",
       "      <td>1</td>\n",
       "      <td>Suicide</td>\n",
       "      <td>0</td>\n",
       "      <td>M</td>\n",
       "      <td>34.0</td>\n",
       "      <td>Asian/Pacific Islander</td>\n",
       "      <td>100</td>\n",
       "      <td>Home</td>\n",
       "      <td>4.0</td>\n",
       "    </tr>\n",
       "    <tr>\n",
       "      <th>1</th>\n",
       "      <td>2</td>\n",
       "      <td>2012</td>\n",
       "      <td>1</td>\n",
       "      <td>Suicide</td>\n",
       "      <td>0</td>\n",
       "      <td>F</td>\n",
       "      <td>21.0</td>\n",
       "      <td>White</td>\n",
       "      <td>100</td>\n",
       "      <td>Street</td>\n",
       "      <td>3.0</td>\n",
       "    </tr>\n",
       "    <tr>\n",
       "      <th>2</th>\n",
       "      <td>3</td>\n",
       "      <td>2012</td>\n",
       "      <td>1</td>\n",
       "      <td>Suicide</td>\n",
       "      <td>0</td>\n",
       "      <td>M</td>\n",
       "      <td>60.0</td>\n",
       "      <td>White</td>\n",
       "      <td>100</td>\n",
       "      <td>Other specified</td>\n",
       "      <td>4.0</td>\n",
       "    </tr>\n",
       "  </tbody>\n",
       "</table>\n",
       "</div>"
      ],
      "text/plain": [
       "   ID  year  month   intent  police sex   age                    race  \\\n",
       "0   1  2012      1  Suicide       0   M  34.0  Asian/Pacific Islander   \n",
       "1   2  2012      1  Suicide       0   F  21.0                   White   \n",
       "2   3  2012      1  Suicide       0   M  60.0                   White   \n",
       "\n",
       "   hispanic            place  education  \n",
       "0       100             Home        4.0  \n",
       "1       100           Street        3.0  \n",
       "2       100  Other specified        4.0  "
      ]
     },
     "execution_count": 22,
     "metadata": {},
     "output_type": "execute_result"
    }
   ],
   "source": [
    "gun.head(3)"
   ]
  },
  {
   "cell_type": "code",
   "execution_count": 23,
   "metadata": {
    "collapsed": false
   },
   "outputs": [],
   "source": [
    "## filter the data to contain Homicide only \n",
    "gun_homicide_deaths = gun[gun['intent']=='Homicide']"
   ]
  },
  {
   "cell_type": "code",
   "execution_count": 24,
   "metadata": {
    "collapsed": false
   },
   "outputs": [],
   "source": [
    "## extract race \n",
    "death_race ={}\n",
    "for i in gun_homicide_deaths['race']:\n",
    "        if i not in death_race:\n",
    "            death_race[i]=1\n",
    "        else:\n",
    "            death_race[i] +=1"
   ]
  },
  {
   "cell_type": "code",
   "execution_count": 25,
   "metadata": {
    "collapsed": false
   },
   "outputs": [],
   "source": [
    "## now as i did above i will compute the rate to the whole race populations\n",
    "homicide_rates ={}\n",
    "for k,v in death_race.items() :\n",
    "     homicide_rates[k] = (v/whole_race_counts[k])*100000\n"
   ]
  },
  {
   "cell_type": "code",
   "execution_count": 26,
   "metadata": {
    "collapsed": false
   },
   "outputs": [
    {
     "data": {
      "image/png": "[encoded data removed]",
      "text/plain": [
       "<matplotlib.figure.Figure at 0x97d0748>"
      ]
     },
     "metadata": {},
     "output_type": "display_data"
    }
   ],
   "source": [
    "## now plot also as i did above\n",
    "\n",
    "plt.bar(range(len(homicide_rates)), homicide_rates.values(), align='center',color='c')\n",
    "plt.xticks(range(len(homicide_rates)), homicide_rates.keys(),rotation =90 )\n",
    "\n",
    "plt.show()\n"
   ]
  },
  {
   "cell_type": "code",
   "execution_count": 31,
   "metadata": {
    "collapsed": false
   },
   "outputs": [
    {
     "data": {
      "text/html": [
       "<div>\n",
       "<table border=\"1\" class=\"dataframe\">\n",
       "  <thead>\n",
       "    <tr style=\"text-align: right;\">\n",
       "      <th></th>\n",
       "      <th>ID</th>\n",
       "      <th>year</th>\n",
       "      <th>month</th>\n",
       "      <th>intent</th>\n",
       "      <th>police</th>\n",
       "      <th>sex</th>\n",
       "      <th>age</th>\n",
       "      <th>race</th>\n",
       "      <th>hispanic</th>\n",
       "      <th>place</th>\n",
       "      <th>education</th>\n",
       "    </tr>\n",
       "  </thead>\n",
       "  <tbody>\n",
       "    <tr>\n",
       "      <th>14</th>\n",
       "      <td>15</td>\n",
       "      <td>2012</td>\n",
       "      <td>3</td>\n",
       "      <td>Homicide</td>\n",
       "      <td>0</td>\n",
       "      <td>M</td>\n",
       "      <td>27.0</td>\n",
       "      <td>White</td>\n",
       "      <td>100</td>\n",
       "      <td>Home</td>\n",
       "      <td>2.0</td>\n",
       "    </tr>\n",
       "    <tr>\n",
       "      <th>18</th>\n",
       "      <td>19</td>\n",
       "      <td>2012</td>\n",
       "      <td>3</td>\n",
       "      <td>Homicide</td>\n",
       "      <td>0</td>\n",
       "      <td>M</td>\n",
       "      <td>31.0</td>\n",
       "      <td>Asian/Pacific Islander</td>\n",
       "      <td>100</td>\n",
       "      <td>Home</td>\n",
       "      <td>3.0</td>\n",
       "    </tr>\n",
       "    <tr>\n",
       "      <th>22</th>\n",
       "      <td>23</td>\n",
       "      <td>2012</td>\n",
       "      <td>4</td>\n",
       "      <td>Homicide</td>\n",
       "      <td>0</td>\n",
       "      <td>F</td>\n",
       "      <td>47.0</td>\n",
       "      <td>Black</td>\n",
       "      <td>100</td>\n",
       "      <td>Home</td>\n",
       "      <td>2.0</td>\n",
       "    </tr>\n",
       "    <tr>\n",
       "      <th>24</th>\n",
       "      <td>25</td>\n",
       "      <td>2012</td>\n",
       "      <td>4</td>\n",
       "      <td>Homicide</td>\n",
       "      <td>0</td>\n",
       "      <td>M</td>\n",
       "      <td>51.0</td>\n",
       "      <td>White</td>\n",
       "      <td>100</td>\n",
       "      <td>Other specified</td>\n",
       "      <td>2.0</td>\n",
       "    </tr>\n",
       "  </tbody>\n",
       "</table>\n",
       "</div>"
      ],
      "text/plain": [
       "    ID  year  month    intent  police sex   age                    race  \\\n",
       "14  15  2012      3  Homicide       0   M  27.0                   White   \n",
       "18  19  2012      3  Homicide       0   M  31.0  Asian/Pacific Islander   \n",
       "22  23  2012      4  Homicide       0   F  47.0                   Black   \n",
       "24  25  2012      4  Homicide       0   M  51.0                   White   \n",
       "\n",
       "    hispanic            place  education  \n",
       "14       100             Home        2.0  \n",
       "18       100             Home        3.0  \n",
       "22       100             Home        2.0  \n",
       "24       100  Other specified        2.0  "
      ]
     },
     "execution_count": 31,
     "metadata": {},
     "output_type": "execute_result"
    }
   ],
   "source": [
    "## homicide and gender \n",
    "## i want to know the count of females and males who died (Homicide) and plot those counts\n",
    "gender_homicide ={'female':gun_homicide_deaths[gun_homicide_deaths['sex']=='F']['sex'].count()\n",
    "                  ,'male':gun_homicide_deaths[gun_homicide_deaths['sex']=='M']['sex'].count()}\n",
    "gun_homicide_deaths.head(4)"
   ]
  },
  {
   "cell_type": "code",
   "execution_count": 48,
   "metadata": {
    "collapsed": false
   },
   "outputs": [
    {
     "data": {
      "text/plain": [
       "<matplotlib.text.Text at 0xdef8860>"
      ]
     },
     "execution_count": 48,
     "metadata": {},
     "output_type": "execute_result"
    },
    {
     "data": {
      "image/png": "[encoded data removed]",
      "text/plain": [
       "<matplotlib.figure.Figure at 0xdc8d8d0>"
      ]
     },
     "metadata": {},
     "output_type": "display_data"
    }
   ],
   "source": [
    "plt.bar(range(len(gender_homicide)),gender_homicide.values(),align='center',color='c',width=0.1)\n",
    "plt.xticks(range(len(gender_homicide)),gender_homicide.keys(),rotation=0)\n",
    "plt.title('Homicide counts over gender')"
   ]
  },
  {
   "cell_type": "markdown",
   "metadata": {},
   "source": [
    "## now i want to explore deaths with education level\n",
    "what is the percentage of each education level in the gun death dataset "
   ]
  },
  {
   "cell_type": "code",
   "execution_count": 72,
   "metadata": {
    "collapsed": false
   },
   "outputs": [],
   "source": [
    "## first count each education level\n",
    "education_rates ={}\n",
    "for i in gun['education'] :\n",
    "    if str(i) not in education_rates.keys() :\n",
    "        education_rates[str(i)] =1\n",
    "    else:\n",
    "        education_rates[str(i)] +=1 \n",
    "## now i want to replace keys with more meaning  words\n",
    "for key in education_rates.keys():\n",
    "    if key =='1.0':\n",
    "        education_rates['Less than High School'] =education_rates[key]\n",
    "        del education_rates[key]\n",
    "    elif key =='2.0' :\n",
    "        education_rates['Graduated from High School or equivalent '] =education_rates[key]\n",
    "        del education_rates[key]\n",
    "    elif key =='3.0' :    \n",
    "        education_rates['Some College '] =education_rates[key]   \n",
    "        del education_rates[key]\n",
    "    elif key =='4.0' :    \n",
    "        education_rates['At least graduated from College'] =education_rates[key]   \n",
    "        del education_rates[key]\n",
    "    else  :\n",
    "        education_rates['Not available'] =education_rates[key]\n",
    "        del education_rates[key]"
   ]
  },
  {
   "cell_type": "code",
   "execution_count": 73,
   "metadata": {
    "collapsed": false
   },
   "outputs": [
    {
     "data": {
      "text/plain": [
       "{'At least graduated from College': 12946,\n",
       " 'Graduated from High School or equivalent ': 42927,\n",
       " 'Less than High School': 21823,\n",
       " 'Not available': 53,\n",
       " 'Some College ': 21680}"
      ]
     },
     "execution_count": 73,
     "metadata": {},
     "output_type": "execute_result"
    }
   ],
   "source": [
    " education_rates"
   ]
  },
  {
   "cell_type": "code",
   "execution_count": 88,
   "metadata": {
    "collapsed": false
   },
   "outputs": [
    {
     "data": {
      "image/png": "[encoded data removed]",
      "text/plain": [
       "<matplotlib.figure.Figure at 0x105dd5f8>"
      ]
     },
     "metadata": {},
     "output_type": "display_data"
    }
   ],
   "source": [
    "## now plot the dict as i did above\n",
    " \n",
    "plt.bar(range(len(education_rates)),education_rates.values() , align='center',color='c')\n",
    "\n",
    "plt.xticks(range(len(education_rates)),education_rates.keys() ,rotation=90)\n",
    "plt.title('Gun Deaths and education level')\n",
    "plt.show()"
   ]
  },
  {
   "cell_type": "markdown",
   "metadata": {},
   "source": [
    "## Gun deaths and places"
   ]
  },
  {
   "cell_type": "code",
   "execution_count": 89,
   "metadata": {
    "collapsed": false
   },
   "outputs": [
    {
     "data": {
      "text/html": [
       "<div>\n",
       "<table border=\"1\" class=\"dataframe\">\n",
       "  <thead>\n",
       "    <tr style=\"text-align: right;\">\n",
       "      <th></th>\n",
       "      <th>ID</th>\n",
       "      <th>year</th>\n",
       "      <th>month</th>\n",
       "      <th>intent</th>\n",
       "      <th>police</th>\n",
       "      <th>sex</th>\n",
       "      <th>age</th>\n",
       "      <th>race</th>\n",
       "      <th>hispanic</th>\n",
       "      <th>place</th>\n",
       "      <th>education</th>\n",
       "    </tr>\n",
       "  </thead>\n",
       "  <tbody>\n",
       "    <tr>\n",
       "      <th>0</th>\n",
       "      <td>1</td>\n",
       "      <td>2012</td>\n",
       "      <td>1</td>\n",
       "      <td>Suicide</td>\n",
       "      <td>0</td>\n",
       "      <td>M</td>\n",
       "      <td>34.0</td>\n",
       "      <td>Asian/Pacific Islander</td>\n",
       "      <td>100</td>\n",
       "      <td>Home</td>\n",
       "      <td>4.0</td>\n",
       "    </tr>\n",
       "    <tr>\n",
       "      <th>1</th>\n",
       "      <td>2</td>\n",
       "      <td>2012</td>\n",
       "      <td>1</td>\n",
       "      <td>Suicide</td>\n",
       "      <td>0</td>\n",
       "      <td>F</td>\n",
       "      <td>21.0</td>\n",
       "      <td>White</td>\n",
       "      <td>100</td>\n",
       "      <td>Street</td>\n",
       "      <td>3.0</td>\n",
       "    </tr>\n",
       "    <tr>\n",
       "      <th>2</th>\n",
       "      <td>3</td>\n",
       "      <td>2012</td>\n",
       "      <td>1</td>\n",
       "      <td>Suicide</td>\n",
       "      <td>0</td>\n",
       "      <td>M</td>\n",
       "      <td>60.0</td>\n",
       "      <td>White</td>\n",
       "      <td>100</td>\n",
       "      <td>Other specified</td>\n",
       "      <td>4.0</td>\n",
       "    </tr>\n",
       "  </tbody>\n",
       "</table>\n",
       "</div>"
      ],
      "text/plain": [
       "   ID  year  month   intent  police sex   age                    race  \\\n",
       "0   1  2012      1  Suicide       0   M  34.0  Asian/Pacific Islander   \n",
       "1   2  2012      1  Suicide       0   F  21.0                   White   \n",
       "2   3  2012      1  Suicide       0   M  60.0                   White   \n",
       "\n",
       "   hispanic            place  education  \n",
       "0       100             Home        4.0  \n",
       "1       100           Street        3.0  \n",
       "2       100  Other specified        4.0  "
      ]
     },
     "execution_count": 89,
     "metadata": {},
     "output_type": "execute_result"
    }
   ],
   "source": [
    "gun.head(3)"
   ]
  },
  {
   "cell_type": "code",
   "execution_count": 90,
   "metadata": {
    "collapsed": false
   },
   "outputs": [
    {
     "data": {
      "text/plain": [
       "Home                       60486\n",
       "Other specified            13751\n",
       "Street                     11151\n",
       "Other unspecified           8867\n",
       "Trade/service area          3439\n",
       "School/instiution            671\n",
       "Farm                         470\n",
       "Industrial/construction      248\n",
       "Residential institution      203\n",
       "Sports                       128\n",
       "Name: place, dtype: int64"
      ]
     },
     "execution_count": 90,
     "metadata": {},
     "output_type": "execute_result"
    }
   ],
   "source": [
    "gun['place'].value_counts()"
   ]
  },
  {
   "cell_type": "code",
   "execution_count": 119,
   "metadata": {
    "collapsed": false
   },
   "outputs": [],
   "source": [
    "places_count={}\n",
    "for i in gun['place'] :\n",
    "    if i not in places_count :\n",
    "        places_count[i] =1\n",
    "    else :\n",
    "        places_count[i] +=1\n",
    "for key,value in places_count.items():\n",
    "    places_count[key]=(value/len(gun) )*100\n",
    "    "
   ]
  },
  {
   "cell_type": "code",
   "execution_count": 120,
   "metadata": {
    "collapsed": false
   },
   "outputs": [
    {
     "data": {
      "text/plain": [
       "{nan: 1.37304311593484,\n",
       " 'Farm': 0.46627909283914365,\n",
       " 'Home': 60.00714299886902,\n",
       " 'Industrial/construction': 0.24603662771086726,\n",
       " 'Other specified': 13.642135756661839,\n",
       " 'Other unspecified': 8.79680152383976,\n",
       " 'Residential institution': 0.2013928847794599,\n",
       " 'School/instiution': 0.6656878112660966,\n",
       " 'Sports': 0.12698664656044764,\n",
       " 'Street': 11.062719498402746,\n",
       " 'Trade/service area': 3.411774043135776}"
      ]
     },
     "execution_count": 120,
     "metadata": {},
     "output_type": "execute_result"
    }
   ],
   "source": [
    "places_count"
   ]
  },
  {
   "cell_type": "code",
   "execution_count": 121,
   "metadata": {
    "collapsed": false
   },
   "outputs": [
    {
     "data": {
      "image/png": "[encoded data removed]",
      "text/plain": [
       "<matplotlib.figure.Figure at 0x126ac0b8>"
      ]
     },
     "metadata": {},
     "output_type": "display_data"
    }
   ],
   "source": [
    "plt.bar(range(len(places_count)),places_count.values(),align='center',width=0.7,color='c')\n",
    "\n",
    "plt.xticks(range(len(places_count)),places_count.keys(),rotation=90  )\n",
    "plt.show()"
   ]
  },
  {
   "cell_type": "markdown",
   "metadata": {},
   "source": [
    "#### this the end of this notebook . \n",
    "i will return to it again to apply new data exploration techinque that i will learn and machine learning algorithms also"
   ]
  },
  {
   "cell_type": "code",
   "execution_count": null,
   "metadata": {
    "collapsed": true
   },
   "outputs": [],
   "source": []
  }
 ],
 "metadata": {
  "kernelspec": {
   "display_name": "Python 2",
   "language": "python",
   "name": "python2"
  },
  "language_info": {
   "codemirror_mode": {
    "name": "ipython",
    "version": 2
   },
   "file_extension": ".py",
   "mimetype": "text/x-python",
   "name": "python",
   "nbconvert_exporter": "python",
   "pygments_lexer": "ipython2",
   "version": "2.7.12"
  }
 },
 "nbformat": 4,
 "nbformat_minor": 0
}
